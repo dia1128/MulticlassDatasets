{
  "nbformat": 4,
  "nbformat_minor": 0,
  "metadata": {
    "colab": {
      "provenance": [],
      "mount_file_id": "1xjlSoehGxqZ-JI6WFF3yYeL1Mm-1fcah",
      "authorship_tag": "ABX9TyNExLnuI8N4q8x8vLmJKGbe",
      "include_colab_link": true
    },
    "kernelspec": {
      "name": "python3",
      "display_name": "Python 3"
    },
    "language_info": {
      "name": "python"
    }
  },
  "cells": [
    {
      "cell_type": "markdown",
      "metadata": {
        "id": "view-in-github",
        "colab_type": "text"
      },
      "source": [
        "<a href=\"https://colab.research.google.com/github/dia1128/MulticlassDatasets/blob/main/DatasetsWithMultiClass.ipynb\" target=\"_parent\"><img src=\"https://colab.research.google.com/assets/colab-badge.svg\" alt=\"Open In Colab\"/></a>"
      ]
    },
    {
      "cell_type": "code",
      "execution_count": null,
      "metadata": {
        "id": "fHZTRl5Mslsd"
      },
      "outputs": [],
      "source": []
    },
    {
      "cell_type": "markdown",
      "source": [
        "# 1. Heart Disease\n"
      ],
      "metadata": {
        "id": "xR7x0kaOuEz0"
      }
    },
    {
      "cell_type": "markdown",
      "source": [
        "This database contains 76 attributes, but all published experiments refer to using a subset of 14 of them.  In particular, the Cleveland database is the only one that has been used by ML researchers to date.  The \"goal\" field refers to the presence of heart disease in the patient.  It is integer valued from 0 (no presence) to 4. Experiments with the Cleveland database have concentrated on simply attempting to distinguish presence (values 1,2,3,4) from absence (value 0).  "
      ],
      "metadata": {
        "id": "0B-mKHtzt5VK"
      }
    },
    {
      "cell_type": "code",
      "source": [
        "pip install ucimlrepo\n"
      ],
      "metadata": {
        "colab": {
          "base_uri": "https://localhost:8080/"
        },
        "id": "UfabtOYmsnVI",
        "outputId": "be031b13-452b-4e0b-ff1b-3e423262c0fd"
      },
      "execution_count": 1,
      "outputs": [
        {
          "output_type": "stream",
          "name": "stdout",
          "text": [
            "Collecting ucimlrepo\n",
            "  Downloading ucimlrepo-0.0.7-py3-none-any.whl (8.0 kB)\n",
            "Requirement already satisfied: pandas>=1.0.0 in /usr/local/lib/python3.10/dist-packages (from ucimlrepo) (2.0.3)\n",
            "Requirement already satisfied: certifi>=2020.12.5 in /usr/local/lib/python3.10/dist-packages (from ucimlrepo) (2024.6.2)\n",
            "Requirement already satisfied: python-dateutil>=2.8.2 in /usr/local/lib/python3.10/dist-packages (from pandas>=1.0.0->ucimlrepo) (2.8.2)\n",
            "Requirement already satisfied: pytz>=2020.1 in /usr/local/lib/python3.10/dist-packages (from pandas>=1.0.0->ucimlrepo) (2023.4)\n",
            "Requirement already satisfied: tzdata>=2022.1 in /usr/local/lib/python3.10/dist-packages (from pandas>=1.0.0->ucimlrepo) (2024.1)\n",
            "Requirement already satisfied: numpy>=1.21.0 in /usr/local/lib/python3.10/dist-packages (from pandas>=1.0.0->ucimlrepo) (1.25.2)\n",
            "Requirement already satisfied: six>=1.5 in /usr/local/lib/python3.10/dist-packages (from python-dateutil>=2.8.2->pandas>=1.0.0->ucimlrepo) (1.16.0)\n",
            "Installing collected packages: ucimlrepo\n",
            "Successfully installed ucimlrepo-0.0.7\n"
          ]
        }
      ]
    },
    {
      "cell_type": "code",
      "source": [
        "\n",
        "import pandas as pd\n",
        "from ucimlrepo import fetch_ucirepo\n",
        "from sklearn.preprocessing import LabelEncoder\n",
        "from google.colab import files\n",
        "\n",
        "# target_column = y.columns[0]  # Get the name of the first column in y\n",
        "\n",
        "# # Find the unique classes\n",
        "# unique_classes = y[target_column].unique()\n",
        "# num_classes = len(unique_classes)"
      ],
      "metadata": {
        "id": "43d0Ly_8oom8"
      },
      "execution_count": 2,
      "outputs": []
    },
    {
      "cell_type": "markdown",
      "source": [
        "##Run The following Code"
      ],
      "metadata": {
        "id": "EK5sjjDFuYU6"
      }
    },
    {
      "cell_type": "code",
      "source": [
        "from ucimlrepo import fetch_ucirepo\n",
        "\n",
        "# fetch dataset\n",
        "heart_disease = fetch_ucirepo(id=45)\n",
        "\n",
        "# data (as pandas dataframes)\n",
        "X = heart_disease.data.features\n",
        "y = heart_disease.data.targets\n",
        "\n",
        "print(y)"
      ],
      "metadata": {
        "colab": {
          "base_uri": "https://localhost:8080/"
        },
        "id": "toDqL7UEuchy",
        "outputId": "9b96fa66-79a6-494f-891e-e2ffe3b6c2d4"
      },
      "execution_count": null,
      "outputs": [
        {
          "output_type": "stream",
          "name": "stdout",
          "text": [
            "     num\n",
            "0      0\n",
            "1      2\n",
            "2      1\n",
            "3      0\n",
            "4      0\n",
            "..   ...\n",
            "298    1\n",
            "299    2\n",
            "300    3\n",
            "301    1\n",
            "302    0\n",
            "\n",
            "[303 rows x 1 columns]\n"
          ]
        }
      ]
    },
    {
      "cell_type": "markdown",
      "source": [
        "# 2.Maternal Health Risk"
      ],
      "metadata": {
        "id": "w2T5QFTizdkM"
      }
    },
    {
      "cell_type": "markdown",
      "source": [
        "See more: https://archive.ics.uci.edu/dataset/863/maternal+health+risk"
      ],
      "metadata": {
        "id": "8jR_efgjzp_3"
      }
    },
    {
      "cell_type": "code",
      "source": [
        "from ucimlrepo import fetch_ucirepo\n",
        "\n",
        "# fetch dataset\n",
        "maternal_health_risk = fetch_ucirepo(id=863)\n",
        "\n",
        "# data (as pandas dataframes)\n",
        "X = maternal_health_risk.data.features\n",
        "y = maternal_health_risk.data.targets\n",
        "\n",
        "label_encoder = LabelEncoder()\n",
        "\n",
        "y_encode = label_encoder.fit_transform(y)\n",
        "\n",
        "# Create a DataFrame for the features and encoded target\n",
        "df = pd.DataFrame(X)\n",
        "df['target'] = y_encode\n",
        "\n",
        "# Save the DataFrame to a CSV file\n",
        "df.to_csv('maternal_health_risk.csv', index=False)\n",
        "\n",
        "#print(\"Dataset has been saved to 'ecoli_dataset.csv'.\")\n",
        "csv_file = 'maternal_health_risk.csv'\n",
        "df.to_csv(csv_file, index=False)\n",
        "\n",
        "# Provide a download link\n",
        "files.download(csv_file)\n",
        "\n",
        "\n",
        "\n",
        "\n"
      ],
      "metadata": {
        "colab": {
          "base_uri": "https://localhost:8080/",
          "height": 211
        },
        "id": "pOW5PrPrzwdq",
        "outputId": "ca7543b9-9ee5-416f-8e32-bdd128256f51"
      },
      "execution_count": null,
      "outputs": [
        {
          "output_type": "error",
          "ename": "NameError",
          "evalue": "name 'LabelEncoder' is not defined",
          "traceback": [
            "\u001b[0;31m---------------------------------------------------------------------------\u001b[0m",
            "\u001b[0;31mNameError\u001b[0m                                 Traceback (most recent call last)",
            "\u001b[0;32m<ipython-input-10-d4f019962b02>\u001b[0m in \u001b[0;36m<cell line: 10>\u001b[0;34m()\u001b[0m\n\u001b[1;32m      8\u001b[0m \u001b[0my\u001b[0m \u001b[0;34m=\u001b[0m \u001b[0mmaternal_health_risk\u001b[0m\u001b[0;34m.\u001b[0m\u001b[0mdata\u001b[0m\u001b[0;34m.\u001b[0m\u001b[0mtargets\u001b[0m\u001b[0;34m\u001b[0m\u001b[0;34m\u001b[0m\u001b[0m\n\u001b[1;32m      9\u001b[0m \u001b[0;34m\u001b[0m\u001b[0m\n\u001b[0;32m---> 10\u001b[0;31m \u001b[0mlabel_encoder\u001b[0m \u001b[0;34m=\u001b[0m \u001b[0mLabelEncoder\u001b[0m\u001b[0;34m(\u001b[0m\u001b[0;34m)\u001b[0m\u001b[0;34m\u001b[0m\u001b[0;34m\u001b[0m\u001b[0m\n\u001b[0m\u001b[1;32m     11\u001b[0m \u001b[0;34m\u001b[0m\u001b[0m\n\u001b[1;32m     12\u001b[0m \u001b[0my_encode\u001b[0m \u001b[0;34m=\u001b[0m \u001b[0mlabel_encoder\u001b[0m\u001b[0;34m.\u001b[0m\u001b[0mfit_transform\u001b[0m\u001b[0;34m(\u001b[0m\u001b[0my\u001b[0m\u001b[0;34m)\u001b[0m\u001b[0;34m\u001b[0m\u001b[0;34m\u001b[0m\u001b[0m\n",
            "\u001b[0;31mNameError\u001b[0m: name 'LabelEncoder' is not defined"
          ]
        }
      ]
    },
    {
      "cell_type": "markdown",
      "source": [
        "# 3.Image Segmentaion"
      ],
      "metadata": {
        "id": "0CoaxcHe3c__"
      }
    },
    {
      "cell_type": "markdown",
      "source": [
        "https://archive.ics.uci.edu/dataset/50/image+segmentation"
      ],
      "metadata": {
        "id": "R1f2aFb1zwEQ"
      }
    },
    {
      "cell_type": "code",
      "source": [
        "from ucimlrepo import fetch_ucirepo\n",
        "\n",
        "# fetch dataset\n",
        "image_segmentation = fetch_ucirepo(id=50)\n",
        "\n",
        "# data (as pandas dataframes)\n",
        "X = image_segmentation.data.features\n",
        "y = image_segmentation.data.targets\n",
        "\n",
        "label_encoder = LabelEncoder()\n",
        "\n",
        "y_encode = label_encoder.fit_transform(y)\n",
        "\n",
        "# Create a DataFrame for the features and encoded target\n",
        "df = pd.DataFrame(X)\n",
        "df['target'] = y_encode\n",
        "\n",
        "# Save the DataFrame to a CSV file\n",
        "df.to_csv('image_segmentation.csv', index=False)\n",
        "\n",
        "#print(\"Dataset has been saved to 'ecoli_dataset.csv'.\")\n",
        "csv_file = 'image_segmentation.csv'\n",
        "df.to_csv(csv_file, index=False)\n",
        "\n",
        "# Provide a download link\n",
        "files.download(csv_file)\n"
      ],
      "metadata": {
        "colab": {
          "base_uri": "https://localhost:8080/",
          "height": 72
        },
        "id": "EyZ3Zvr539Jh",
        "outputId": "0fc44077-358f-4390-8bf6-ccbeae6dc683"
      },
      "execution_count": null,
      "outputs": [
        {
          "output_type": "stream",
          "name": "stderr",
          "text": [
            "/usr/local/lib/python3.10/dist-packages/sklearn/preprocessing/_label.py:116: DataConversionWarning: A column-vector y was passed when a 1d array was expected. Please change the shape of y to (n_samples, ), for example using ravel().\n",
            "  y = column_or_1d(y, warn=True)\n"
          ]
        },
        {
          "output_type": "display_data",
          "data": {
            "text/plain": [
              "<IPython.core.display.Javascript object>"
            ],
            "application/javascript": [
              "\n",
              "    async function download(id, filename, size) {\n",
              "      if (!google.colab.kernel.accessAllowed) {\n",
              "        return;\n",
              "      }\n",
              "      const div = document.createElement('div');\n",
              "      const label = document.createElement('label');\n",
              "      label.textContent = `Downloading \"${filename}\": `;\n",
              "      div.appendChild(label);\n",
              "      const progress = document.createElement('progress');\n",
              "      progress.max = size;\n",
              "      div.appendChild(progress);\n",
              "      document.body.appendChild(div);\n",
              "\n",
              "      const buffers = [];\n",
              "      let downloaded = 0;\n",
              "\n",
              "      const channel = await google.colab.kernel.comms.open(id);\n",
              "      // Send a message to notify the kernel that we're ready.\n",
              "      channel.send({})\n",
              "\n",
              "      for await (const message of channel.messages) {\n",
              "        // Send a message to notify the kernel that we're ready.\n",
              "        channel.send({})\n",
              "        if (message.buffers) {\n",
              "          for (const buffer of message.buffers) {\n",
              "            buffers.push(buffer);\n",
              "            downloaded += buffer.byteLength;\n",
              "            progress.value = downloaded;\n",
              "          }\n",
              "        }\n",
              "      }\n",
              "      const blob = new Blob(buffers, {type: 'application/binary'});\n",
              "      const a = document.createElement('a');\n",
              "      a.href = window.URL.createObjectURL(blob);\n",
              "      a.download = filename;\n",
              "      div.appendChild(a);\n",
              "      a.click();\n",
              "      div.remove();\n",
              "    }\n",
              "  "
            ]
          },
          "metadata": {}
        },
        {
          "output_type": "display_data",
          "data": {
            "text/plain": [
              "<IPython.core.display.Javascript object>"
            ],
            "application/javascript": [
              "download(\"download_dcc75259-18e1-48ac-b815-af389b5e9a80\", \"image_segmentation.csv\", 33765)"
            ]
          },
          "metadata": {}
        }
      ]
    },
    {
      "cell_type": "markdown",
      "source": [
        "# 4.Ecoli"
      ],
      "metadata": {
        "id": "y7L6_27949fU"
      }
    },
    {
      "cell_type": "markdown",
      "source": [
        "https://archive.ics.uci.edu/dataset/39/ecoli"
      ],
      "metadata": {
        "id": "ivzj4JMa5ChP"
      }
    },
    {
      "cell_type": "code",
      "source": [
        "import pandas as pd\n",
        "from ucimlrepo import fetch_ucirepo\n",
        "from sklearn.preprocessing import LabelEncoder\n",
        "from google.colab import files\n",
        "\n",
        "# Fetch dataset\n",
        "ecoli = fetch_ucirepo(id=39)\n",
        "\n",
        "# Data (as pandas dataframes)\n",
        "X = ecoli.data.features\n",
        "y = ecoli.data.targets\n",
        "\n",
        "# Initialize the LabelEncoder\n",
        "label_encoder = LabelEncoder()\n",
        "\n",
        "# Fit and transform the target variable\n",
        "y_encoded = label_encoder.fit_transform(y)\n",
        "\n",
        "# Create a DataFrame for the features and encoded target\n",
        "df = pd.DataFrame(X)\n",
        "df['target'] = y_encoded\n",
        "\n",
        "# Save the DataFrame to a CSV file\n",
        "df.to_csv('ecoli_dataset.csv', index=False)\n",
        "\n",
        "#print(\"Dataset has been saved to 'ecoli_dataset.csv'.\")\n",
        "csv_file = 'ecoli_dataset.csv'\n",
        "df.to_csv(csv_file, index=False)\n",
        "\n",
        "# Provide a download link\n",
        "files.download(csv_file)\n"
      ],
      "metadata": {
        "colab": {
          "base_uri": "https://localhost:8080/",
          "height": 72
        },
        "id": "qBrhVfVT5E8m",
        "outputId": "1a5f3ba2-ac13-4196-8cef-45174954a678"
      },
      "execution_count": null,
      "outputs": [
        {
          "output_type": "stream",
          "name": "stderr",
          "text": [
            "/usr/local/lib/python3.10/dist-packages/sklearn/preprocessing/_label.py:116: DataConversionWarning: A column-vector y was passed when a 1d array was expected. Please change the shape of y to (n_samples, ), for example using ravel().\n",
            "  y = column_or_1d(y, warn=True)\n"
          ]
        },
        {
          "output_type": "display_data",
          "data": {
            "text/plain": [
              "<IPython.core.display.Javascript object>"
            ],
            "application/javascript": [
              "\n",
              "    async function download(id, filename, size) {\n",
              "      if (!google.colab.kernel.accessAllowed) {\n",
              "        return;\n",
              "      }\n",
              "      const div = document.createElement('div');\n",
              "      const label = document.createElement('label');\n",
              "      label.textContent = `Downloading \"${filename}\": `;\n",
              "      div.appendChild(label);\n",
              "      const progress = document.createElement('progress');\n",
              "      progress.max = size;\n",
              "      div.appendChild(progress);\n",
              "      document.body.appendChild(div);\n",
              "\n",
              "      const buffers = [];\n",
              "      let downloaded = 0;\n",
              "\n",
              "      const channel = await google.colab.kernel.comms.open(id);\n",
              "      // Send a message to notify the kernel that we're ready.\n",
              "      channel.send({})\n",
              "\n",
              "      for await (const message of channel.messages) {\n",
              "        // Send a message to notify the kernel that we're ready.\n",
              "        channel.send({})\n",
              "        if (message.buffers) {\n",
              "          for (const buffer of message.buffers) {\n",
              "            buffers.push(buffer);\n",
              "            downloaded += buffer.byteLength;\n",
              "            progress.value = downloaded;\n",
              "          }\n",
              "        }\n",
              "      }\n",
              "      const blob = new Blob(buffers, {type: 'application/binary'});\n",
              "      const a = document.createElement('a');\n",
              "      a.href = window.URL.createObjectURL(blob);\n",
              "      a.download = filename;\n",
              "      div.appendChild(a);\n",
              "      a.click();\n",
              "      div.remove();\n",
              "    }\n",
              "  "
            ]
          },
          "metadata": {}
        },
        {
          "output_type": "display_data",
          "data": {
            "text/plain": [
              "<IPython.core.display.Javascript object>"
            ],
            "application/javascript": [
              "download(\"download_c6d98b77-eb1d-4cac-89b5-8b6e690dc8c9\", \"ecoli_dataset.csv\", 11963)"
            ]
          },
          "metadata": {}
        }
      ]
    },
    {
      "cell_type": "markdown",
      "source": [
        "# 5.DeFungi (hobe na)"
      ],
      "metadata": {
        "id": "4DAdCISO5nYo"
      }
    },
    {
      "cell_type": "code",
      "source": [
        "https://archive.ics.uci.edu/dataset/773/defungi"
      ],
      "metadata": {
        "id": "9iUdRDeF5qBw"
      },
      "execution_count": null,
      "outputs": []
    },
    {
      "cell_type": "markdown",
      "source": [
        "# 6.Crop mapping using fused optical-radar data set"
      ],
      "metadata": {
        "id": "IbYe21Hu6Ysc"
      }
    },
    {
      "cell_type": "markdown",
      "source": [
        "https://archive.ics.uci.edu/dataset/525/crop+mapping+using+fused+optical+radar+data+set"
      ],
      "metadata": {
        "id": "0BC7bbkE6f45"
      }
    },
    {
      "cell_type": "markdown",
      "source": [
        "# 7.Rice Leaf Diseases (Hobe na)"
      ],
      "metadata": {
        "id": "BoTQtZ4_7WcM"
      }
    },
    {
      "cell_type": "markdown",
      "source": [
        "https://archive.ics.uci.edu/dataset/486/rice+leaf+diseases"
      ],
      "metadata": {
        "id": "MKZPfirP7ZGn"
      }
    },
    {
      "cell_type": "markdown",
      "source": [],
      "metadata": {
        "id": "5O3ARr-Wd61I"
      }
    },
    {
      "cell_type": "markdown",
      "source": [
        "# 8.Jute Pest (hobe na)"
      ],
      "metadata": {
        "id": "CiY7uZ_l3stk"
      }
    },
    {
      "cell_type": "markdown",
      "source": [
        "https://archive.ics.uci.edu/dataset/920/jute+pest+dataset"
      ],
      "metadata": {
        "id": "yJOLDpiC3ybj"
      }
    },
    {
      "cell_type": "markdown",
      "source": [
        "# 9. Wine Quality"
      ],
      "metadata": {
        "id": "a-rhifONdyQU"
      }
    },
    {
      "cell_type": "markdown",
      "source": [
        "https://archive.ics.uci.edu/dataset/186/wine+quality"
      ],
      "metadata": {
        "id": "wcOHcKKjd1oq"
      }
    },
    {
      "cell_type": "markdown",
      "source": [
        "# 10. Glass Identifications"
      ],
      "metadata": {
        "id": "2SQiiH9Ren68"
      }
    },
    {
      "cell_type": "markdown",
      "source": [
        "https://archive.ics.uci.edu/dataset/42/glass+identification"
      ],
      "metadata": {
        "id": "OC0k6esuerLl"
      }
    },
    {
      "cell_type": "markdown",
      "source": [
        "# 11. Higher Education\n",
        "\n",
        "https://archive.ics.uci.edu/dataset/856/higher+education+students+performance+evaluation"
      ],
      "metadata": {
        "id": "bvqHQn-n6aWI"
      }
    },
    {
      "cell_type": "code",
      "source": [
        "from ucimlrepo import fetch_ucirepo\n",
        "\n",
        "# fetch dataset\n",
        "higher_education_students_performance_evaluation = fetch_ucirepo(id=856)\n",
        "\n",
        "# data (as pandas dataframes)\n",
        "X = higher_education_students_performance_evaluation.data.features\n",
        "y = higher_education_students_performance_evaluation.data.targets\n",
        "\n",
        "\n",
        "label_encoder = LabelEncoder()\n",
        "\n",
        "y_encode = label_encoder.fit_transform(y)\n",
        "\n",
        "# Create a DataFrame for the features and encoded target\n",
        "df = pd.DataFrame(X)\n",
        "df['target'] = y_encode\n",
        "print(df['target'])\n",
        "\n",
        "# Save the DataFrame to a CSV file\n",
        "df.to_csv('higher_education.csv', index=False)\n",
        "\n",
        "#print(\"Dataset has been saved to 'ecoli_dataset.csv'.\")\n",
        "csv_file = 'higher_education.csv.csv'\n",
        "df.to_csv(csv_file, index=False)\n",
        "\n",
        "# Provide a download link\n",
        "files.download(csv_file)\n"
      ],
      "metadata": {
        "colab": {
          "base_uri": "https://localhost:8080/",
          "height": 280
        },
        "id": "FzzbAwxs5RcY",
        "outputId": "d39ad852-379c-4470-d610-fdf13bc98441"
      },
      "execution_count": null,
      "outputs": [
        {
          "output_type": "stream",
          "name": "stdout",
          "text": [
            "0      1\n",
            "1      1\n",
            "2      1\n",
            "3      1\n",
            "4      1\n",
            "      ..\n",
            "140    5\n",
            "141    5\n",
            "142    1\n",
            "143    4\n",
            "144    3\n",
            "Name: target, Length: 145, dtype: int64\n"
          ]
        },
        {
          "output_type": "stream",
          "name": "stderr",
          "text": [
            "/usr/local/lib/python3.10/dist-packages/sklearn/preprocessing/_label.py:116: DataConversionWarning: A column-vector y was passed when a 1d array was expected. Please change the shape of y to (n_samples, ), for example using ravel().\n",
            "  y = column_or_1d(y, warn=True)\n"
          ]
        },
        {
          "output_type": "display_data",
          "data": {
            "text/plain": [
              "<IPython.core.display.Javascript object>"
            ],
            "application/javascript": [
              "\n",
              "    async function download(id, filename, size) {\n",
              "      if (!google.colab.kernel.accessAllowed) {\n",
              "        return;\n",
              "      }\n",
              "      const div = document.createElement('div');\n",
              "      const label = document.createElement('label');\n",
              "      label.textContent = `Downloading \"${filename}\": `;\n",
              "      div.appendChild(label);\n",
              "      const progress = document.createElement('progress');\n",
              "      progress.max = size;\n",
              "      div.appendChild(progress);\n",
              "      document.body.appendChild(div);\n",
              "\n",
              "      const buffers = [];\n",
              "      let downloaded = 0;\n",
              "\n",
              "      const channel = await google.colab.kernel.comms.open(id);\n",
              "      // Send a message to notify the kernel that we're ready.\n",
              "      channel.send({})\n",
              "\n",
              "      for await (const message of channel.messages) {\n",
              "        // Send a message to notify the kernel that we're ready.\n",
              "        channel.send({})\n",
              "        if (message.buffers) {\n",
              "          for (const buffer of message.buffers) {\n",
              "            buffers.push(buffer);\n",
              "            downloaded += buffer.byteLength;\n",
              "            progress.value = downloaded;\n",
              "          }\n",
              "        }\n",
              "      }\n",
              "      const blob = new Blob(buffers, {type: 'application/binary'});\n",
              "      const a = document.createElement('a');\n",
              "      a.href = window.URL.createObjectURL(blob);\n",
              "      a.download = filename;\n",
              "      div.appendChild(a);\n",
              "      a.click();\n",
              "      div.remove();\n",
              "    }\n",
              "  "
            ]
          },
          "metadata": {}
        },
        {
          "output_type": "display_data",
          "data": {
            "text/plain": [
              "<IPython.core.display.Javascript object>"
            ],
            "application/javascript": [
              "download(\"download_bec528bf-a34b-40e2-b43b-bdcf7b3e3a89\", \"higher_education.csv.csv\", 10213)"
            ]
          },
          "metadata": {}
        }
      ]
    },
    {
      "cell_type": "markdown",
      "source": [
        "# 12.Steel Industry Energy Consumption\n",
        "\n",
        "https://archive.ics.uci.edu/dataset/851/steel+industry+energy+consumption"
      ],
      "metadata": {
        "id": "XYl1Z1FamArO"
      }
    },
    {
      "cell_type": "code",
      "source": [
        "from ucimlrepo import fetch_ucirepo\n",
        "\n",
        "\n",
        "\n",
        "# fetch dataset\n",
        "steel_industry_energy_consumption = fetch_ucirepo(id=851)\n",
        "\n",
        "# data (as pandas dataframes)\n",
        "X = steel_industry_energy_consumption.data.features\n",
        "y = steel_industry_energy_consumption.data.targets\n",
        "\n",
        "label_encoder = LabelEncoder()\n",
        "\n",
        "y_encode = label_encoder.fit_transform(y)\n",
        "\n",
        "\n",
        "# Create a DataFrame for the features and encoded target\n",
        "df = pd.DataFrame(X)\n",
        "df['target'] = y_encode\n",
        "WeekStatus = label_encoder.fit_transform(df['WeekStatus'])\n",
        "df['WeekStatus'] = WeekStatus\n",
        "#print(df['WeekStatus'] )\n",
        "dayOfWeek = label_encoder.fit_transform(df['Day_of_week'])\n",
        "df['Day_of_week'] = dayOfWeek\n",
        "#print(df['Day_of_week'] )\n",
        "# Save the DataFrame to a CSV file\n",
        "df.to_csv('steel_industry_energy.csv', index=False)\n",
        "\n",
        "#print(\"Dataset has been saved to 'ecoli_dataset.csv'.\")\n",
        "csv_file = 'steel_industry_energy.csv'\n",
        "df.to_csv(csv_file, index=False)\n",
        "\n",
        "# Provide a download link\n",
        "files.download(csv_file)"
      ],
      "metadata": {
        "colab": {
          "base_uri": "https://localhost:8080/",
          "height": 72
        },
        "id": "Vp-urpAImTzm",
        "outputId": "b63684b1-f001-4951-b341-50a4f00636a8"
      },
      "execution_count": null,
      "outputs": [
        {
          "output_type": "stream",
          "name": "stderr",
          "text": [
            "/usr/local/lib/python3.10/dist-packages/sklearn/preprocessing/_label.py:116: DataConversionWarning: A column-vector y was passed when a 1d array was expected. Please change the shape of y to (n_samples, ), for example using ravel().\n",
            "  y = column_or_1d(y, warn=True)\n"
          ]
        },
        {
          "output_type": "display_data",
          "data": {
            "text/plain": [
              "<IPython.core.display.Javascript object>"
            ],
            "application/javascript": [
              "\n",
              "    async function download(id, filename, size) {\n",
              "      if (!google.colab.kernel.accessAllowed) {\n",
              "        return;\n",
              "      }\n",
              "      const div = document.createElement('div');\n",
              "      const label = document.createElement('label');\n",
              "      label.textContent = `Downloading \"${filename}\": `;\n",
              "      div.appendChild(label);\n",
              "      const progress = document.createElement('progress');\n",
              "      progress.max = size;\n",
              "      div.appendChild(progress);\n",
              "      document.body.appendChild(div);\n",
              "\n",
              "      const buffers = [];\n",
              "      let downloaded = 0;\n",
              "\n",
              "      const channel = await google.colab.kernel.comms.open(id);\n",
              "      // Send a message to notify the kernel that we're ready.\n",
              "      channel.send({})\n",
              "\n",
              "      for await (const message of channel.messages) {\n",
              "        // Send a message to notify the kernel that we're ready.\n",
              "        channel.send({})\n",
              "        if (message.buffers) {\n",
              "          for (const buffer of message.buffers) {\n",
              "            buffers.push(buffer);\n",
              "            downloaded += buffer.byteLength;\n",
              "            progress.value = downloaded;\n",
              "          }\n",
              "        }\n",
              "      }\n",
              "      const blob = new Blob(buffers, {type: 'application/binary'});\n",
              "      const a = document.createElement('a');\n",
              "      a.href = window.URL.createObjectURL(blob);\n",
              "      a.download = filename;\n",
              "      div.appendChild(a);\n",
              "      a.click();\n",
              "      div.remove();\n",
              "    }\n",
              "  "
            ]
          },
          "metadata": {}
        },
        {
          "output_type": "display_data",
          "data": {
            "text/plain": [
              "<IPython.core.display.Javascript object>"
            ],
            "application/javascript": [
              "download(\"download_11ce4cc9-6350-4676-a421-878b8fa2462c\", \"steel_industry_energy.csv\", 1505941)"
            ]
          },
          "metadata": {}
        }
      ]
    },
    {
      "cell_type": "markdown",
      "source": [
        "# 13. HARTH\n",
        "https://archive.ics.uci.edu/dataset/779/harth"
      ],
      "metadata": {
        "id": "rel32micujTJ"
      }
    },
    {
      "cell_type": "code",
      "source": [
        "import pandas as pd\n",
        "import os\n",
        "\n",
        "# Directory containing the CSV files\n",
        "directory = '/content/drive/MyDrive/harth'  # replace with your directory path\n",
        "\n",
        "# List to hold DataFrames\n",
        "dataframes = []\n",
        "\n",
        "# Iterate over the files in the directory\n",
        "for filename in os.listdir(directory):\n",
        "    if filename.endswith('.csv'):\n",
        "        filepath = os.path.join(directory, filename)\n",
        "        df = pd.read_csv(filepath)\n",
        "        dataframes.append(df)\n",
        "\n",
        "# Concatenate all DataFrames in the list\n",
        "merged_df = pd.concat(dataframes, ignore_index=True)\n",
        "\n",
        "# Save the merged DataFrame to a new CSV file\n",
        "merged_csv_file = 'merged_patients_data.csv'\n",
        "merged_df.to_csv(merged_csv_file, index=False)\n",
        "\n",
        "print(f\"Merged CSV file saved as '{merged_csv_file}'.\")\n"
      ],
      "metadata": {
        "colab": {
          "base_uri": "https://localhost:8080/"
        },
        "id": "rNa2m0XHusdT",
        "outputId": "050f9865-e5ce-42be-ac56-cbd7f775d337"
      },
      "execution_count": null,
      "outputs": [
        {
          "output_type": "stream",
          "name": "stdout",
          "text": [
            "Merged CSV file saved as 'merged_patients_data.csv'.\n"
          ]
        }
      ]
    },
    {
      "cell_type": "markdown",
      "source": [
        "# 14. Yeast\n",
        "https://archive.ics.uci.edu/dataset/292/wholesale+customers"
      ],
      "metadata": {
        "id": "1gFzyiFTwuuB"
      }
    },
    {
      "cell_type": "code",
      "source": [
        "from ucimlrepo import fetch_ucirepo\n",
        "\n",
        "# fetch dataset\n",
        "yeast = fetch_ucirepo(id=110)\n",
        "\n",
        "# data (as pandas dataframes)\n",
        "X = yeast.data.features\n",
        "y = yeast.data.targets\n",
        "\n",
        "target_column = y.columns[0]  # Get the name of the first column in y\n",
        "\n",
        "# Find the unique classes\n",
        "unique_classes = y[target_column].unique()\n",
        "#print(unique_classes )\n",
        "\n",
        "label_encoder = LabelEncoder()\n",
        "\n",
        "y_encode = label_encoder.fit_transform(y)\n",
        "\n",
        "# Create a DataFrame for the features and encoded target\n",
        "df = pd.DataFrame(X)\n",
        "df['target'] = y_encode\n",
        "#print(df['target'])\n",
        "\n",
        "# Save the DataFrame to a CSV file\n",
        "df.to_csv('Yeast.csv', index=False)\n",
        "\n",
        "#print(\"Dataset has been saved to 'ecoli_dataset.csv'.\")\n",
        "csv_file = 'Yeast.csv'\n",
        "df.to_csv(csv_file, index=False)\n",
        "\n",
        "# Provide a download link\n",
        "files.download(csv_file)"
      ],
      "metadata": {
        "colab": {
          "base_uri": "https://localhost:8080/",
          "height": 72
        },
        "id": "2AD7JHq8xMAe",
        "outputId": "a47c1acc-556c-44f4-e863-9b576685841d"
      },
      "execution_count": null,
      "outputs": [
        {
          "output_type": "stream",
          "name": "stderr",
          "text": [
            "/usr/local/lib/python3.10/dist-packages/sklearn/preprocessing/_label.py:116: DataConversionWarning: A column-vector y was passed when a 1d array was expected. Please change the shape of y to (n_samples, ), for example using ravel().\n",
            "  y = column_or_1d(y, warn=True)\n"
          ]
        },
        {
          "output_type": "display_data",
          "data": {
            "text/plain": [
              "<IPython.core.display.Javascript object>"
            ],
            "application/javascript": [
              "\n",
              "    async function download(id, filename, size) {\n",
              "      if (!google.colab.kernel.accessAllowed) {\n",
              "        return;\n",
              "      }\n",
              "      const div = document.createElement('div');\n",
              "      const label = document.createElement('label');\n",
              "      label.textContent = `Downloading \"${filename}\": `;\n",
              "      div.appendChild(label);\n",
              "      const progress = document.createElement('progress');\n",
              "      progress.max = size;\n",
              "      div.appendChild(progress);\n",
              "      document.body.appendChild(div);\n",
              "\n",
              "      const buffers = [];\n",
              "      let downloaded = 0;\n",
              "\n",
              "      const channel = await google.colab.kernel.comms.open(id);\n",
              "      // Send a message to notify the kernel that we're ready.\n",
              "      channel.send({})\n",
              "\n",
              "      for await (const message of channel.messages) {\n",
              "        // Send a message to notify the kernel that we're ready.\n",
              "        channel.send({})\n",
              "        if (message.buffers) {\n",
              "          for (const buffer of message.buffers) {\n",
              "            buffers.push(buffer);\n",
              "            downloaded += buffer.byteLength;\n",
              "            progress.value = downloaded;\n",
              "          }\n",
              "        }\n",
              "      }\n",
              "      const blob = new Blob(buffers, {type: 'application/binary'});\n",
              "      const a = document.createElement('a');\n",
              "      a.href = window.URL.createObjectURL(blob);\n",
              "      a.download = filename;\n",
              "      div.appendChild(a);\n",
              "      a.click();\n",
              "      div.remove();\n",
              "    }\n",
              "  "
            ]
          },
          "metadata": {}
        },
        {
          "output_type": "display_data",
          "data": {
            "text/plain": [
              "<IPython.core.display.Javascript object>"
            ],
            "application/javascript": [
              "download(\"download_86277c2f-4f98-4fc7-9e43-9072aff6b106\", \"Yeast.csv\", 58603)"
            ]
          },
          "metadata": {}
        }
      ]
    },
    {
      "cell_type": "markdown",
      "source": [
        "# 15. Pen-Based Recognition of Handwritten Digits\n",
        "\n",
        "https://archive.ics.uci.edu/dataset/81/pen+based+recognition+of+handwritten+digits"
      ],
      "metadata": {
        "id": "Qx7Xxe4W2z09"
      }
    },
    {
      "cell_type": "code",
      "source": [
        "from ucimlrepo import fetch_ucirepo\n",
        "\n",
        "# fetch dataset\n",
        "pen_based_recognition_of_handwritten_digits = fetch_ucirepo(id=81)\n",
        "\n",
        "# data (as pandas dataframes)\n",
        "X = pen_based_recognition_of_handwritten_digits.data.features\n",
        "y = pen_based_recognition_of_handwritten_digits.data.targets\n",
        "\n",
        "df = pd.DataFrame(X)\n",
        "df['target'] = y\n",
        "\n",
        "# Save the DataFrame to a CSV file\n",
        "df.to_csv('Pen Based Recognition of Handwritten Digits.csv', index=False)\n",
        "\n",
        "#print(\"Dataset has been saved to 'ecoli_dataset.csv'.\")\n",
        "csv_file = 'Pen Based Recognition of Handwritten Digits.csv'\n",
        "df.to_csv(csv_file, index=False)\n",
        "\n",
        "# Provide a download link\n",
        "files.download(csv_file)"
      ],
      "metadata": {
        "colab": {
          "base_uri": "https://localhost:8080/",
          "height": 17
        },
        "id": "Jjl4teTe1rEV",
        "outputId": "318155c3-5af8-43c4-dcb4-cd5e54b6709a"
      },
      "execution_count": null,
      "outputs": [
        {
          "output_type": "display_data",
          "data": {
            "text/plain": [
              "<IPython.core.display.Javascript object>"
            ],
            "application/javascript": [
              "\n",
              "    async function download(id, filename, size) {\n",
              "      if (!google.colab.kernel.accessAllowed) {\n",
              "        return;\n",
              "      }\n",
              "      const div = document.createElement('div');\n",
              "      const label = document.createElement('label');\n",
              "      label.textContent = `Downloading \"${filename}\": `;\n",
              "      div.appendChild(label);\n",
              "      const progress = document.createElement('progress');\n",
              "      progress.max = size;\n",
              "      div.appendChild(progress);\n",
              "      document.body.appendChild(div);\n",
              "\n",
              "      const buffers = [];\n",
              "      let downloaded = 0;\n",
              "\n",
              "      const channel = await google.colab.kernel.comms.open(id);\n",
              "      // Send a message to notify the kernel that we're ready.\n",
              "      channel.send({})\n",
              "\n",
              "      for await (const message of channel.messages) {\n",
              "        // Send a message to notify the kernel that we're ready.\n",
              "        channel.send({})\n",
              "        if (message.buffers) {\n",
              "          for (const buffer of message.buffers) {\n",
              "            buffers.push(buffer);\n",
              "            downloaded += buffer.byteLength;\n",
              "            progress.value = downloaded;\n",
              "          }\n",
              "        }\n",
              "      }\n",
              "      const blob = new Blob(buffers, {type: 'application/binary'});\n",
              "      const a = document.createElement('a');\n",
              "      a.href = window.URL.createObjectURL(blob);\n",
              "      a.download = filename;\n",
              "      div.appendChild(a);\n",
              "      a.click();\n",
              "      div.remove();\n",
              "    }\n",
              "  "
            ]
          },
          "metadata": {}
        },
        {
          "output_type": "display_data",
          "data": {
            "text/plain": [
              "<IPython.core.display.Javascript object>"
            ],
            "application/javascript": [
              "download(\"download_846df525-40f8-4150-8aae-627c1a035738\", \"Pen Based Recognition of Handwritten Digits.csv\", 539813)"
            ]
          },
          "metadata": {}
        }
      ]
    },
    {
      "cell_type": "markdown",
      "source": [
        "# 16.Cardiotocography\n",
        "https://archive.ics.uci.edu/dataset/193/cardiotocography"
      ],
      "metadata": {
        "id": "J4YmFAmJ48It"
      }
    },
    {
      "cell_type": "markdown",
      "source": [
        "# 17.Website Phishing\n",
        "https://archive.ics.uci.edu/dataset/379/website+phishing"
      ],
      "metadata": {
        "id": "_1xiBWCU6iT7"
      }
    },
    {
      "cell_type": "code",
      "source": [
        "from ucimlrepo import fetch_ucirepo\n",
        "\n",
        "# fetch dataset\n",
        "website_phishing = fetch_ucirepo(id=379)\n",
        "\n",
        "# data (as pandas dataframes)\n",
        "X = website_phishing.data.features\n",
        "y = website_phishing.data.targets\n",
        "\n",
        "\n",
        "df = pd.DataFrame(X)\n",
        "df['target'] = y\n",
        "\n",
        "# Save the DataFrame to a CSV file\n",
        "df.to_csv('Website Phishing.csv', index=False)\n",
        "\n",
        "#print(\"Dataset has been saved to 'ecoli_dataset.csv'.\")\n",
        "csv_file = 'Website Phishing.csv'\n",
        "df.to_csv(csv_file, index=False)\n",
        "\n",
        "# Provide a download link\n",
        "files.download(csv_file)"
      ],
      "metadata": {
        "colab": {
          "base_uri": "https://localhost:8080/",
          "height": 17
        },
        "id": "a0GHKvTo5nQn",
        "outputId": "4d425e3f-1bf0-41b5-ccda-e270ff58ef37"
      },
      "execution_count": null,
      "outputs": [
        {
          "output_type": "display_data",
          "data": {
            "text/plain": [
              "<IPython.core.display.Javascript object>"
            ],
            "application/javascript": [
              "\n",
              "    async function download(id, filename, size) {\n",
              "      if (!google.colab.kernel.accessAllowed) {\n",
              "        return;\n",
              "      }\n",
              "      const div = document.createElement('div');\n",
              "      const label = document.createElement('label');\n",
              "      label.textContent = `Downloading \"${filename}\": `;\n",
              "      div.appendChild(label);\n",
              "      const progress = document.createElement('progress');\n",
              "      progress.max = size;\n",
              "      div.appendChild(progress);\n",
              "      document.body.appendChild(div);\n",
              "\n",
              "      const buffers = [];\n",
              "      let downloaded = 0;\n",
              "\n",
              "      const channel = await google.colab.kernel.comms.open(id);\n",
              "      // Send a message to notify the kernel that we're ready.\n",
              "      channel.send({})\n",
              "\n",
              "      for await (const message of channel.messages) {\n",
              "        // Send a message to notify the kernel that we're ready.\n",
              "        channel.send({})\n",
              "        if (message.buffers) {\n",
              "          for (const buffer of message.buffers) {\n",
              "            buffers.push(buffer);\n",
              "            downloaded += buffer.byteLength;\n",
              "            progress.value = downloaded;\n",
              "          }\n",
              "        }\n",
              "      }\n",
              "      const blob = new Blob(buffers, {type: 'application/binary'});\n",
              "      const a = document.createElement('a');\n",
              "      a.href = window.URL.createObjectURL(blob);\n",
              "      a.download = filename;\n",
              "      div.appendChild(a);\n",
              "      a.click();\n",
              "      div.remove();\n",
              "    }\n",
              "  "
            ]
          },
          "metadata": {}
        },
        {
          "output_type": "display_data",
          "data": {
            "text/plain": [
              "<IPython.core.display.Javascript object>"
            ],
            "application/javascript": [
              "download(\"download_d261fc12-9ea4-406e-825f-94b038f52066\", \"Website Phishing.csv\", 31792)"
            ]
          },
          "metadata": {}
        }
      ]
    },
    {
      "cell_type": "markdown",
      "source": [
        "# 18. Vertebral Column\n",
        "https://archive.ics.uci.edu/dataset/212/vertebral+column"
      ],
      "metadata": {
        "id": "hlxhjzfa8A2Y"
      }
    },
    {
      "cell_type": "code",
      "source": [
        "from ucimlrepo import fetch_ucirepo\n",
        "\n",
        "# fetch dataset\n",
        "vertebral_column = fetch_ucirepo(id=212)\n",
        "\n",
        "# data (as pandas dataframes)\n",
        "X = vertebral_column.data.features\n",
        "y = vertebral_column.data.targets\n",
        "\n",
        "label_encoder = LabelEncoder()\n",
        "\n",
        "y_encode = label_encoder.fit_transform(y)\n",
        "\n",
        "# Create a DataFrame for the features and encoded target\n",
        "df = pd.DataFrame(X)\n",
        "df['target'] = y_encode\n",
        "\n",
        "# Save the DataFrame to a CSV file\n",
        "df.to_csv('Vertebral Column.csv', index=False)\n",
        "\n",
        "#print(\"Dataset has been saved to 'ecoli_dataset.csv'.\")\n",
        "csv_file = 'Vertebral Column.csv'\n",
        "df.to_csv(csv_file, index=False)\n",
        "\n",
        "# Provide a download link\n",
        "files.download(csv_file)"
      ],
      "metadata": {
        "colab": {
          "base_uri": "https://localhost:8080/",
          "height": 72
        },
        "id": "5Lf2Af307VYs",
        "outputId": "62282f3e-4c76-496c-cdbb-983deb63be35"
      },
      "execution_count": null,
      "outputs": [
        {
          "output_type": "stream",
          "name": "stderr",
          "text": [
            "/usr/local/lib/python3.10/dist-packages/sklearn/preprocessing/_label.py:116: DataConversionWarning: A column-vector y was passed when a 1d array was expected. Please change the shape of y to (n_samples, ), for example using ravel().\n",
            "  y = column_or_1d(y, warn=True)\n"
          ]
        },
        {
          "output_type": "display_data",
          "data": {
            "text/plain": [
              "<IPython.core.display.Javascript object>"
            ],
            "application/javascript": [
              "\n",
              "    async function download(id, filename, size) {\n",
              "      if (!google.colab.kernel.accessAllowed) {\n",
              "        return;\n",
              "      }\n",
              "      const div = document.createElement('div');\n",
              "      const label = document.createElement('label');\n",
              "      label.textContent = `Downloading \"${filename}\": `;\n",
              "      div.appendChild(label);\n",
              "      const progress = document.createElement('progress');\n",
              "      progress.max = size;\n",
              "      div.appendChild(progress);\n",
              "      document.body.appendChild(div);\n",
              "\n",
              "      const buffers = [];\n",
              "      let downloaded = 0;\n",
              "\n",
              "      const channel = await google.colab.kernel.comms.open(id);\n",
              "      // Send a message to notify the kernel that we're ready.\n",
              "      channel.send({})\n",
              "\n",
              "      for await (const message of channel.messages) {\n",
              "        // Send a message to notify the kernel that we're ready.\n",
              "        channel.send({})\n",
              "        if (message.buffers) {\n",
              "          for (const buffer of message.buffers) {\n",
              "            buffers.push(buffer);\n",
              "            downloaded += buffer.byteLength;\n",
              "            progress.value = downloaded;\n",
              "          }\n",
              "        }\n",
              "      }\n",
              "      const blob = new Blob(buffers, {type: 'application/binary'});\n",
              "      const a = document.createElement('a');\n",
              "      a.href = window.URL.createObjectURL(blob);\n",
              "      a.download = filename;\n",
              "      div.appendChild(a);\n",
              "      a.click();\n",
              "      div.remove();\n",
              "    }\n",
              "  "
            ]
          },
          "metadata": {}
        },
        {
          "output_type": "display_data",
          "data": {
            "text/plain": [
              "<IPython.core.display.Javascript object>"
            ],
            "application/javascript": [
              "download(\"download_43603151-941b-481f-a7dc-138c7e37efda\", \"Vertebral Column.csv\", 22715)"
            ]
          },
          "metadata": {}
        }
      ]
    },
    {
      "cell_type": "markdown",
      "source": [
        "# 19.Hepatitis C Virus (HCV) for Egyptian patients\n",
        "https://archive.ics.uci.edu/dataset/503/hepatitis+c+virus+hcv+for+egyptian+patients"
      ],
      "metadata": {
        "id": "CringyQ2tVs9"
      }
    },
    {
      "cell_type": "markdown",
      "source": [
        "# 20. Mice Protein Expression\n",
        "https://archive.ics.uci.edu/dataset/342/mice+protein+expression"
      ],
      "metadata": {
        "id": "fu4K7yhox2Yl"
      }
    },
    {
      "cell_type": "code",
      "source": [
        "from ucimlrepo import fetch_ucirepo\n",
        "\n",
        "# fetch dataset\n",
        "mice_protein_expression = fetch_ucirepo(id=342)\n",
        "\n",
        "# data (as pandas dataframes)\n",
        "X = mice_protein_expression.data.features\n",
        "y = mice_protein_expression.data.targets\n",
        "\n",
        "label_encoder = LabelEncoder()\n",
        "\n",
        "y_encode = label_encoder.fit_transform(y)\n",
        "\n",
        "# Create a DataFrame for the features and encoded target\n",
        "df = pd.DataFrame(X)\n",
        "df['target'] = y_encode\n",
        "\n",
        "\n",
        "\n",
        "# Specify the column name directly\n",
        "behavior_column = 'Treatment'  # Replace 'Behavior' with the actual column name in your dataset\n",
        "\n",
        "# Find the unique classes\n",
        "unique_classes = X[behavior_column].unique()\n",
        "num_classes = len(unique_classes)\n",
        "print(num_classes)\n",
        "\n",
        "Behavior = label_encoder.fit_transform(df['Behavior'])\n",
        "df['Behavior'] = Behavior\n",
        "\n",
        "\n",
        "Treatment = label_encoder.fit_transform(df['Treatment'])\n",
        "df['Treatment'] = Treatment\n",
        "\n",
        "\n",
        "\n",
        "# Save the DataFrame to a CSV file\n",
        "df.to_csv('Mice Protin Expression.csv', index=False)\n",
        "\n",
        "#print(\"Dataset has been saved to 'ecoli_dataset.csv'.\")\n",
        "csv_file = 'Mice Protin Expression.csv'\n",
        "df.to_csv(csv_file, index=False)\n",
        "\n",
        "# Provide a download link\n",
        "files.download(csv_file)\n",
        "\n",
        "\n"
      ],
      "metadata": {
        "colab": {
          "base_uri": "https://localhost:8080/",
          "height": 89
        },
        "id": "PS2IYTT1tz_V",
        "outputId": "9f59f9c5-d706-4379-ef97-b618f57d4af7"
      },
      "execution_count": 25,
      "outputs": [
        {
          "output_type": "stream",
          "name": "stdout",
          "text": [
            "2\n"
          ]
        },
        {
          "output_type": "stream",
          "name": "stderr",
          "text": [
            "/usr/local/lib/python3.10/dist-packages/sklearn/preprocessing/_label.py:116: DataConversionWarning: A column-vector y was passed when a 1d array was expected. Please change the shape of y to (n_samples, ), for example using ravel().\n",
            "  y = column_or_1d(y, warn=True)\n"
          ]
        },
        {
          "output_type": "display_data",
          "data": {
            "text/plain": [
              "<IPython.core.display.Javascript object>"
            ],
            "application/javascript": [
              "\n",
              "    async function download(id, filename, size) {\n",
              "      if (!google.colab.kernel.accessAllowed) {\n",
              "        return;\n",
              "      }\n",
              "      const div = document.createElement('div');\n",
              "      const label = document.createElement('label');\n",
              "      label.textContent = `Downloading \"${filename}\": `;\n",
              "      div.appendChild(label);\n",
              "      const progress = document.createElement('progress');\n",
              "      progress.max = size;\n",
              "      div.appendChild(progress);\n",
              "      document.body.appendChild(div);\n",
              "\n",
              "      const buffers = [];\n",
              "      let downloaded = 0;\n",
              "\n",
              "      const channel = await google.colab.kernel.comms.open(id);\n",
              "      // Send a message to notify the kernel that we're ready.\n",
              "      channel.send({})\n",
              "\n",
              "      for await (const message of channel.messages) {\n",
              "        // Send a message to notify the kernel that we're ready.\n",
              "        channel.send({})\n",
              "        if (message.buffers) {\n",
              "          for (const buffer of message.buffers) {\n",
              "            buffers.push(buffer);\n",
              "            downloaded += buffer.byteLength;\n",
              "            progress.value = downloaded;\n",
              "          }\n",
              "        }\n",
              "      }\n",
              "      const blob = new Blob(buffers, {type: 'application/binary'});\n",
              "      const a = document.createElement('a');\n",
              "      a.href = window.URL.createObjectURL(blob);\n",
              "      a.download = filename;\n",
              "      div.appendChild(a);\n",
              "      a.click();\n",
              "      div.remove();\n",
              "    }\n",
              "  "
            ]
          },
          "metadata": {}
        },
        {
          "output_type": "display_data",
          "data": {
            "text/plain": [
              "<IPython.core.display.Javascript object>"
            ],
            "application/javascript": [
              "download(\"download_aa60591a-5a19-4bcf-9e65-1ce452d651ab\", \"Mice Protin Expression.csv\", 987891)"
            ]
          },
          "metadata": {}
        }
      ]
    },
    {
      "cell_type": "code",
      "source": [],
      "metadata": {
        "id": "PfazO_W9wzFO"
      },
      "execution_count": null,
      "outputs": []
    }
  ]
}